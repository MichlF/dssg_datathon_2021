{
 "cells": [
  {
   "cell_type": "code",
   "execution_count": null,
   "metadata": {
    "tags": []
   },
   "outputs": [],
   "source": [
    "import contextily as cx\n",
    "import pandas as pd\n",
    "import geopandas"
   ]
  },
  {
   "cell_type": "markdown",
   "metadata": {
    "pycharm": {
     "name": "#%% md\n"
    }
   },
   "source": [
    "## Loading data"
   ]
  },
  {
   "cell_type": "code",
   "execution_count": null,
   "metadata": {},
   "outputs": [],
   "source": [
    "'data-ambassadors-parking-project/data/raw/friedrichshain-kreuzberg/lor_friedrichshain_kreuzberg.GeoJSON'"
   ]
  },
  {
   "cell_type": "code",
   "execution_count": null,
   "metadata": {
    "collapsed": false,
    "jupyter": {
     "outputs_hidden": false
    },
    "pycharm": {
     "name": "#%%\n"
    }
   },
   "outputs": [],
   "source": [
    "lor_gdf = geopandas.read_file(\"data-ambassadors-parking-project/data/raw/friedrichshain-kreuzberg/lor_friedrichshain_kreuzberg.GeoJSON\")\n",
    "streets_processed_gdf = geopandas.read_file('data-ambassadors-parking-project/data/datathon/extras/streets_processed.geojson')\n",
    "drive_ways_gdf = geopandas.read_file(\"data-ambassadors-parking-project/data/datathon/extras/drive_ways.geojson\")\n",
    "service_processed_gdf = geopandas.read_file(\"data-ambassadors-parking-project/data/datathon/extras/service_processed.geojson\")\n",
    "estimated_parking_lanes_gdf = geopandas.read_file(\"data-ambassadors-parking-project/data/datathon/parking/estimated_parking_lanes.geojson\")\n",
    "estimated_parking_spots_kfz_gdf = geopandas.read_file(\"data-ambassadors-parking-project/data/datathon/parking/estimated_parking_spots_kfz.geojson\")\n",
    "demographics_age_df = pd.read_csv(\"data-ambassadors-parking-project/data/datathon/demographics/demographics_age_of_inhabitants.csv\", thousands=\" \")\n",
    "demographics_background_df = pd.read_csv(\"data-ambassadors-parking-project/data/datathon/demographics/demographics_background_of_inhabitants.csv\", thousands=\" \", decimal=\",\")\n",
    "registered_cars_gdf = geopandas.read_file(\"data-ambassadors-parking-project/data/datathon/demographics/registered_cars.geojson\")\n",
    "\n",
    "# My data import\n",
    "cartagger_gdf = geopandas.read_file('data-ambassadors-parking-project/data/datathon/parking/counted_cars_from_cartagger_project.geojson')\n"
   ]
  },
  {
   "cell_type": "markdown",
   "metadata": {
    "pycharm": {
     "name": "#%% md\n"
    }
   },
   "source": [
    "## Merging some dataframes"
   ]
  },
  {
   "cell_type": "code",
   "execution_count": null,
   "metadata": {
    "collapsed": false,
    "jupyter": {
     "outputs_hidden": false
    },
    "pycharm": {
     "name": "#%%\n"
    }
   },
   "outputs": [],
   "source": [
    "demographics_df = pd.merge(demographics_age_df, demographics_background_df, on=(\"lor_number\", \"lor\"))"
   ]
  },
  {
   "cell_type": "code",
   "execution_count": null,
   "metadata": {
    "collapsed": false,
    "jupyter": {
     "outputs_hidden": false
    },
    "pycharm": {
     "name": "#%%\n"
    }
   },
   "outputs": [],
   "source": [
    "stats_df = pd.merge(demographics_df, registered_cars_gdf, on=\"lor\")"
   ]
  },
  {
   "cell_type": "markdown",
   "metadata": {
    "pycharm": {
     "name": "#%% md\n"
    }
   },
   "source": [
    "## Visualizing data"
   ]
  },
  {
   "cell_type": "code",
   "execution_count": null,
   "metadata": {
    "collapsed": false,
    "jupyter": {
     "outputs_hidden": false
    },
    "pycharm": {
     "name": "#%%\n"
    }
   },
   "outputs": [],
   "source": [
    "def get_lor_map():\n",
    "    return lor_gdf.explore(\n",
    "        column=\"PLR_NAME\",\n",
    "        legend=True,\n",
    "        legend_kwds={\"colorbar\": False},\n",
    "        style_kwds={\"opacity\": 0.4, \"fillOpacity\": 0.4},\n",
    "        name=\"Friedrichshain-Kreuzberg\"\n",
    "    )"
   ]
  },
  {
   "cell_type": "code",
   "execution_count": null,
   "metadata": {
    "collapsed": false,
    "jupyter": {
     "outputs_hidden": false
    },
    "pycharm": {
     "name": "#%%\n"
    }
   },
   "outputs": [],
   "source": [
    "def plot_geodataframe(gdf: geopandas.GeoDataFrame):\n",
    "    ax = gdf.plot(figsize=(20, 20), alpha=0.5, edgecolor=\"k\")\n",
    "    cx.add_basemap(ax, crs=gdf.crs)"
   ]
  },
  {
   "cell_type": "code",
   "execution_count": null,
   "metadata": {
    "collapsed": false,
    "jupyter": {
     "outputs_hidden": false
    },
    "pycharm": {
     "name": "#%%\n"
    }
   },
   "outputs": [],
   "source": [
    "get_lor_map()"
   ]
  },
  {
   "cell_type": "markdown",
   "metadata": {},
   "source": [
    "# Read POI data"
   ]
  },
  {
   "cell_type": "code",
   "execution_count": null,
   "metadata": {},
   "outputs": [],
   "source": [
    "osm = pyrosm.OSM(input_filepath)\n",
    "network = osm.get_network(\n",
    "    network_type=\"cycling\",\n",
    "    extra_attributes=[\"surface\", \"smoothness\"]\n",
    ")"
   ]
  },
  {
   "cell_type": "markdown",
   "metadata": {},
   "source": [
    "# Join Cartagger polygon to parking Spot point"
   ]
  },
  {
   "cell_type": "code",
   "execution_count": null,
   "metadata": {},
   "outputs": [],
   "source": [
    "spots_filled_gdf1 = geopandas.sjoin(cartagger_gdf, estimated_parking_spots_kfz_gdf, how=\"left\", op=\"contains\")\n",
    "spots_filled_gdf2 = geopandas.sjoin(estimated_parking_spots_kfz_gdf, cartagger_gdf, how=\"left\", op=\"within\")\n",
    "\n",
    "spots_filled_gdf2.head()"
   ]
  },
  {
   "cell_type": "markdown",
   "metadata": {},
   "source": [
    "# plot car tagger and spot data"
   ]
  },
  {
   "cell_type": "code",
   "execution_count": null,
   "metadata": {},
   "outputs": [],
   "source": [
    "cartagger_gdf.explore(m=estimated_parking_spots_kfz_gdf.explore())"
   ]
  },
  {
   "cell_type": "code",
   "execution_count": null,
   "metadata": {},
   "outputs": [],
   "source": [
    "spots_filled_gdf = geopandas.sjoin(cartagger_gdf, estimated_parking_spots_kfz_gdf, how=\"inner\", predicate='overlaps')\n",
    "spots_filled_gdf"
   ]
  },
  {
   "cell_type": "markdown",
   "metadata": {},
   "source": [
    "# Michel's Function"
   ]
  },
  {
   "cell_type": "code",
   "execution_count": null,
   "metadata": {},
   "outputs": [],
   "source": [
    "# Imports\n",
    "import osmnx as ox\n",
    "import geopandas as gpd\n",
    "import pandas as pd\n",
    "import matplotlib.pyplot as plt\n",
    "import numpy as np\n",
    "\n",
    "\n",
    "def get_osm_data(lor_gdf, tags, crs=\"EPSG:25833\", location=\"Berlin, Germany\"):\n",
    "    # Load data\n",
    "    try:\n",
    "        lor_gdf = gpd.read_file(lor_gdf)\n",
    "    except:\n",
    "        print(\"Can't load LOR file\")\n",
    "    # Obtain coordinates of POIs\n",
    "    poi = ox.geometries_from_place(location, tags=tags)\n",
    "    poi_points = poi[poi.geom_type == \"Point\"]\n",
    "\n",
    "    # Drop unnecessary (debatable) information\n",
    "    poi = poi_points.dropna(axis=1)\n",
    "    poi[\"name\"] = poi_points[\"name\"]\n",
    "\n",
    "    # Project to the same coordinate system\n",
    "    poi = poi.to_crs(crs)\n",
    "\n",
    "    # We look for the intersection of all pois and our Bezirk\n",
    "    poi_lor = gpd.sjoin(poi, lor_gdf, predicate=\"intersects\")\n",
    "\n",
    "    return poi_lor\n",
    "\n",
    "\n",
    "def calc_parking_spots(poi_lor, cars, est_parking_spots, buffer_size=20):\n",
    "    # Load data\n",
    "    try:\n",
    "        est_parking_spots = gpd.read_file(est_parking_spots)\n",
    "    except:\n",
    "        print(\"Can't load parking spots file\")\n",
    "\n",
    "    # Define a circular region around each poi\n",
    "    poi_lor_buffered = poi_lor.copy()\n",
    "    poi_lor_buffered[\"geometry\"] = poi_lor[\"geometry\"].buffer(buffer_size)\n",
    "    poi_lor_buffered = poi_lor_buffered.drop(labels=[\"index_right\"], axis=1)\n",
    "\n",
    "    # Intersect parking spots and area\n",
    "    intersect_parking = gpd.sjoin(poi_lor_buffered, est_parking_spots)\n",
    "    # Intersect tagged cars and area\n",
    "    intersect_cars = gpd.sjoin(poi_lor_buffered, cars)\n",
    "    \n",
    "\n",
    "    # Calculate parking spots\n",
    "    intersect_parking[\"capacity\"] = intersect_parking[\"capacity\"].apply(int)\n",
    "    dfpivot = pd.pivot_table(\n",
    "        intersect_parking,\n",
    "        index=\"name_left\",\n",
    "        columns=\"capacity\",\n",
    "        aggfunc={\"capacity\": len},\n",
    "    )\n",
    "    dfpivot.columns = dfpivot.columns.droplevel()\n",
    "    dfpivot.index.names = [\"name\"]\n",
    "    parking_counts = dfpivot.sum(axis=1)\n",
    "    parking_counts = parking_counts.to_frame(\"No. parking spots\")\n",
    "    \n",
    "    # Calculate tagged cars\n",
    "    intersect_cars[\"capacity\"] = intersect_cars[\"capacity\"].apply(int)\n",
    "    dfpivot = pd.pivot_table(\n",
    "        intersect_cars,\n",
    "        index=\"name_left\",\n",
    "        columns=\"capacity\",\n",
    "        aggfunc={\"capacity\": len},\n",
    "    )\n",
    "    dfpivot.columns = dfpivot.columns.droplevel()\n",
    "    dfpivot.index.names = [\"name\"]\n",
    "    car_counts = dfpivot.sum(axis=1)\n",
    "    car_counts = parking_counts.to_frame(\"No. cars tagged\")\n",
    "\n",
    "    # Merge back with the main dataframe\n",
    "    poi_lor_counts = poi_lor.merge(parking_counts.reset_index(), on=\"name\", how=\"left\")\n",
    "    poi_lor_counts[\"No. parking spots\"] = poi_lor_counts[\"No. parking spots\"].fillna(0)\n",
    "    poi_lor_counts[\"No. cars tagged\"] = poi_lor_counts[\"No. parking spots\"].fillna(0)\n",
    "    \n",
    "    #poi_lor_buffered[\"No. parking spots\"] = poi_lor_counts[\"No. parking spots\"].fillna(0)\n",
    "\n",
    "    return poi_lor_counts, poi_lor_buffered"
   ]
  },
  {
   "cell_type": "code",
   "execution_count": null,
   "metadata": {},
   "outputs": [],
   "source": [
    "poi_lor_buffered = poi_lor.copy()\n",
    "poi_lor_buffered[\"geometry\"] = poi_lor[\"geometry\"].buffer(40)\n",
    "poi_lor_buffered = poi_lor_buffered.drop(labels=[\"index_right\"], axis=1)\n",
    "\n",
    "gpd.sjoin(poi_lor_buffered, cartagger_gdf).head()"
   ]
  },
  {
   "cell_type": "code",
   "execution_count": null,
   "metadata": {},
   "outputs": [],
   "source": [
    "# Usage:\n",
    "poi_lor = get_osm_data(\n",
    "    r\"data-ambassadors-parking-project/data/raw/friedrichshain-kreuzberg\"+\"/lor_friedrichshain_kreuzberg.GeoJSON\",\n",
    "    {\"amenity\": True, \"shops\":True},\n",
    "    )"
   ]
  },
  {
   "cell_type": "code",
   "execution_count": null,
   "metadata": {},
   "outputs": [],
   "source": [
    "parking_counts, parking_counts_buffered = calc_parking_spots(\n",
    "    poi_lor, cartagger_gdf,\n",
    "    r\"data-ambassadors-parking-project/data/datathon\"+\"/parking/estimated_parking_spots_kfz.geojson\",\n",
    "    40,\n",
    "    )\n",
    "#parking_counts_buffered.explore(m=estimated_parking_spots_kfz_gdf.explore(m=cartagger_gdf.explore()))"
   ]
  },
  {
   "cell_type": "code",
   "execution_count": null,
   "metadata": {},
   "outputs": [],
   "source": [
    "parking_counts.head()"
   ]
  },
  {
   "cell_type": "code",
   "execution_count": null,
   "metadata": {},
   "outputs": [],
   "source": [
    "parking_counts_buffered.head()"
   ]
  },
  {
   "cell_type": "code",
   "execution_count": null,
   "metadata": {},
   "outputs": [],
   "source": []
  },
  {
   "cell_type": "code",
   "execution_count": null,
   "metadata": {},
   "outputs": [],
   "source": []
  }
 ],
 "metadata": {
  "kernelspec": {
   "display_name": "Python 3 (ipykernel)",
   "language": "python",
   "name": "python3"
  },
  "language_info": {
   "codemirror_mode": {
    "name": "ipython",
    "version": 3
   },
   "file_extension": ".py",
   "mimetype": "text/x-python",
   "name": "python",
   "nbconvert_exporter": "python",
   "pygments_lexer": "ipython3",
   "version": "3.8.10"
  }
 },
 "nbformat": 4,
 "nbformat_minor": 4
}
