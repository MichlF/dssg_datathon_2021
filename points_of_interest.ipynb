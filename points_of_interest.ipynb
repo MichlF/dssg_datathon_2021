{
 "cells": [
  {
   "cell_type": "code",
   "execution_count": null,
   "id": "1b639491",
   "metadata": {},
   "outputs": [],
   "source": [
    "import osmnx as ox\n",
    "import folium"
   ]
  },
  {
   "cell_type": "code",
   "execution_count": null,
   "id": "6e083b78",
   "metadata": {},
   "outputs": [],
   "source": [
    "berlin_coord = [52.520008, 13.404954]"
   ]
  },
  {
   "cell_type": "code",
   "execution_count": null,
   "id": "1cb68f22",
   "metadata": {},
   "outputs": [],
   "source": [
    "place = \"Berlin, Germany\"\n",
    "tags = {\"amenity\": [\"restaurant\", \"cafe\", \"fast_food\", \"bar\", \"pub\", \"ice_cream\", \"biergarten\", \n",
    "                    \"food_court\", \"canteen\"]}\n",
    "poi = ox.geometries_from_place(place, tags=tags)\n",
    "poi.head()"
   ]
  },
  {
   "cell_type": "code",
   "execution_count": null,
   "id": "eb2dbb79",
   "metadata": {},
   "outputs": [],
   "source": [
    "poi_points = poi[poi.geom_type == \"Point\"]\n",
    "m = folium.Map(berlin_coord, zoom_start=10)\n",
    "locs = zip(poi_points.geometry.y, poi_points.geometry.x)"
   ]
  },
  {
   "cell_type": "markdown",
   "id": "6a936852",
   "metadata": {},
   "source": [
    "Note: the .html saving function is very slow"
   ]
  },
  {
   "cell_type": "code",
   "execution_count": null,
   "id": "59d78899",
   "metadata": {},
   "outputs": [],
   "source": [
    "for id, location in enumerate(locs):\n",
    "    print(id)\n",
    "    folium.CircleMarker(location=location).add_to(m)\n",
    "    m.save(\"poi.html\")"
   ]
  }
 ],
 "metadata": {
  "kernelspec": {
   "display_name": "Python 3 (ipykernel)",
   "language": "python",
   "name": "python3"
  },
  "language_info": {
   "codemirror_mode": {
    "name": "ipython",
    "version": 3
   },
   "file_extension": ".py",
   "mimetype": "text/x-python",
   "name": "python",
   "nbconvert_exporter": "python",
   "pygments_lexer": "ipython3",
   "version": "3.8.12"
  }
 },
 "nbformat": 4,
 "nbformat_minor": 5
}
