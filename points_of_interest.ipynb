{
 "cells": [
  {
   "cell_type": "markdown",
   "id": "09d89adf",
   "metadata": {},
   "source": [
    "## Get points of interest"
   ]
  },
  {
   "cell_type": "code",
   "execution_count": null,
   "id": "27284f88",
   "metadata": {},
   "outputs": [],
   "source": [
    "# Imports\n",
    "import osmnx as ox\n",
    "import folium"
   ]
  },
  {
   "cell_type": "code",
   "execution_count": null,
   "id": "184d1300",
   "metadata": {},
   "outputs": [],
   "source": [
    "# Get all food-related amenities\n",
    "place = \"Berlin, Germany\"\n",
    "berlin_coord = [52.520008, 13.404954]\n",
    "tags = {\"amenity\": [\"restaurant\", \"cafe\", \"fast_food\", \"bar\", \"pub\", \"ice_cream\", \"biergarten\", \n",
    "                    \"food_court\", \"canteen\"]} # if all items of a tag call dictionary entry as \"tag name\": True\n",
    "poi = ox.geometries_from_place(place, tags=tags)\n",
    "poi_points = poi[poi.geom_type == \"Point\"]\n",
    "poi.head()"
   ]
  },
  {
   "cell_type": "code",
   "execution_count": null,
   "id": "99f81bda",
   "metadata": {},
   "outputs": [],
   "source": [
    "# If we want, we can also plot them in osmnx\n",
    "# Note though: plotting as .html takes forever. So I'd suggest a different method or within geopandas altogether\n",
    "\n",
    "# m = folium.Map(berlin_coord, zoom_start=10)\n",
    "# locs = zip(poi_points.geometry.y, poi_points.geometry.x)\n",
    "# for id, location in enumerate(locs):\n",
    "#     print(id)\n",
    "#     folium.CircleMarker(location=location).add_to(m)\n",
    "#     m.save(\"poi.html\")"
   ]
  },
  {
   "cell_type": "markdown",
   "id": "409e2f10",
   "metadata": {},
   "source": [
    "## Visualize some stuff"
   ]
  },
  {
   "cell_type": "code",
   "execution_count": null,
   "id": "65a36553",
   "metadata": {},
   "outputs": [],
   "source": [
    "# Imports\n",
    "import geopandas as gpd\n",
    "import pandas as pd\n",
    "import matplotlib.pyplot as plt\n",
    "import numpy as np"
   ]
  },
  {
   "cell_type": "code",
   "execution_count": null,
   "id": "f64c21a2",
   "metadata": {},
   "outputs": [],
   "source": [
    "# Load datasets\n",
    "prefix = r\"C:\\Users\\Michl\\Documents\\GitHub\\data-ambassadors-parking-project\\data\\datathon\"\n",
    "lor_gdf = gpd.read_file(prefix+\"/lor_friedrichshain_kreuzberg.geojson\")\n",
    "estimated_parking_spots_kfz_gdf = gpd.read_file(prefix+\"/parking/estimated_parking_spots_kfz.geojson\")"
   ]
  },
  {
   "cell_type": "code",
   "execution_count": null,
   "id": "78546cad",
   "metadata": {},
   "outputs": [],
   "source": [
    "# Some general plotting (code from Sebastian)\n",
    "def get_lor_map():\n",
    "    return lor_gdf.explore(\n",
    "        column=\"PLR_NAME\",\n",
    "        legend=True,\n",
    "        legend_kwds={\"colorbar\": False},\n",
    "        style_kwds={\"opacity\": 0.4, \"fillOpacity\": 0.4},\n",
    "        name=\"Friedrichshain-Kreuzberg\"\n",
    "    )\n",
    "def plot_geodataframe(gdf: gpd.GeoDataFrame):\n",
    "    ax = gdf.plot(figsize=(20, 20), alpha=0.5, edgecolor=\"k\")\n",
    "    cx.add_basemap(ax, crs=gdf.crs)"
   ]
  },
  {
   "cell_type": "code",
   "execution_count": null,
   "id": "eb1011c2",
   "metadata": {},
   "outputs": [],
   "source": [
    "get_lor_map()"
   ]
  },
  {
   "cell_type": "markdown",
   "id": "8876a0b0",
   "metadata": {},
   "source": [
    "## Confine POI map to KB-FH"
   ]
  },
  {
   "cell_type": "code",
   "execution_count": null,
   "id": "fafd492b",
   "metadata": {},
   "outputs": [],
   "source": [
    "# Plotting with lots of parameters seems to tank the memory availability, hence drop unnecessary (debatable) information\n",
    "poi_points_s = poi_points.dropna(axis=1)\n",
    "poi_points_s[\"name\"] = poi_points[\"name\"]\n",
    "# Project to the same coordinate system\n",
    "poi_points_s = poi_points_s.to_crs(\"EPSG:25833\")"
   ]
  },
  {
   "cell_type": "code",
   "execution_count": null,
   "id": "1f17e9d5",
   "metadata": {},
   "outputs": [],
   "source": [
    "# We look for the intersection of all pois and our Bezirk\n",
    "poi_lor = gpd.sjoin(poi_points_s, lor_gdf, predicate='intersects')"
   ]
  },
  {
   "cell_type": "code",
   "execution_count": null,
   "id": "0893415c",
   "metadata": {},
   "outputs": [],
   "source": [
    "poi_lor.explore(m=lor_gdf.explore())"
   ]
  },
  {
   "cell_type": "code",
   "execution_count": null,
   "id": "50304867",
   "metadata": {},
   "outputs": [],
   "source": [
    "# This is the parking spots as estimated from OSM\n",
    "estimated_parking_spots_kfz_gdf.explore()"
   ]
  },
  {
   "cell_type": "code",
   "execution_count": null,
   "id": "f88dabc6",
   "metadata": {},
   "outputs": [],
   "source": [
    "# Define a circular region around each poi (currently 20m)\n",
    "# At this stage we could also define any type of shape\n",
    "# We might need to think about overlaps here...\n",
    "poi_lor_buffered = poi_lor.copy()\n",
    "poi_lor_buffered[\"geometry\"] = poi_lor[\"geometry\"].buffer(20)\n",
    "poi_lor_buffered = poi_lor_buffered.drop(labels=[\"index_right\"], axis=1)\n",
    "# Show the area together with the parking spots\n",
    "poi_lor_buffered.explore(m=estimated_parking_spots_kfz_gdf.explore())"
   ]
  },
  {
   "cell_type": "markdown",
   "id": "474d8c45",
   "metadata": {},
   "source": [
    "## Calculate parking spots per POI"
   ]
  },
  {
   "cell_type": "code",
   "execution_count": null,
   "id": "fe99ed06",
   "metadata": {},
   "outputs": [],
   "source": [
    "# Intersect parking spots and area\n",
    "intersect_parking = gpd.sjoin(poi_lor_buffered, estimated_parking_spots_kfz_gdf)\n",
    "# Calculate parking spots\n",
    "intersect_parking[\"capacity\"] = intersect_parking[\"capacity\"].apply(int)\n",
    "dfpivot = pd.pivot_table(intersect_parking, index=\"name_left\", columns=\"capacity\", aggfunc={\"capacity\":len})\n",
    "dfpivot.columns = dfpivot.columns.droplevel()\n",
    "dfpivot.index.names = [\"name\"]\n",
    "parking_counts = dfpivot.sum(axis=1)\n",
    "parking_counts = parking_counts.to_frame(\"No. parking spots\")"
   ]
  },
  {
   "cell_type": "code",
   "execution_count": null,
   "id": "95e52af6",
   "metadata": {
    "scrolled": true
   },
   "outputs": [],
   "source": [
    "# Merge back with the main dataframe\n",
    "poi_lor_counts = poi_lor.merge(parking_counts.reset_index(), on=\"name\", how=\"left\")\n",
    "poi_lor_counts[\"No. parking spots\"] = poi_lor_counts[\"No. parking spots\"].fillna(0)"
   ]
  },
  {
   "cell_type": "code",
   "execution_count": null,
   "id": "29333933",
   "metadata": {},
   "outputs": [],
   "source": [
    "poi_lor_counts"
   ]
  },
  {
   "cell_type": "code",
   "execution_count": null,
   "id": "193be9b2",
   "metadata": {},
   "outputs": [],
   "source": []
  }
 ],
 "metadata": {
  "kernelspec": {
   "display_name": "Python 3 (ipykernel)",
   "language": "python",
   "name": "python3"
  },
  "language_info": {
   "codemirror_mode": {
    "name": "ipython",
    "version": 3
   },
   "file_extension": ".py",
   "mimetype": "text/x-python",
   "name": "python",
   "nbconvert_exporter": "python",
   "pygments_lexer": "ipython3",
   "version": "3.8.12"
  }
 },
 "nbformat": 4,
 "nbformat_minor": 5
}
