{
 "cells": [
  {
   "cell_type": "code",
   "execution_count": 1,
   "metadata": {
    "collapsed": true
   },
   "outputs": [
    {
     "name": "stderr",
     "output_type": "stream",
     "text": [
      "/home/snickels/Projects/parking-fhain-xberg/venv/lib/python3.9/site-packages/geopandas/_compat.py:111: UserWarning: The Shapely GEOS version (3.9.1-CAPI-1.14.2) is incompatible with the GEOS version PyGEOS was compiled with (3.10.0-CAPI-1.16.0). Conversions between both will be slow.\n",
      "  warnings.warn(\n"
     ]
    }
   ],
   "source": [
    "import contextily as cx\n",
    "import pandas as pd\n",
    "import geopandas"
   ]
  },
  {
   "cell_type": "markdown",
   "source": [
    "## Loading data"
   ],
   "metadata": {
    "collapsed": false,
    "pycharm": {
     "name": "#%% md\n"
    }
   }
  },
  {
   "cell_type": "code",
   "execution_count": 2,
   "outputs": [],
   "source": [
    "lor_gdf = geopandas.read_file(\"data/lor_friedrichshain_kreuzberg.geojson\")\n",
    "streets_processed_gdf = geopandas.read_file(\"data/extras/streets_processed.geojson\")\n",
    "drive_ways_gdf = geopandas.read_file(\"data/extras/drive_ways.geojson\")\n",
    "service_processed_gdf = geopandas.read_file(\"data/extras/service_processed.geojson\")\n",
    "estimated_parking_lanes_gdf = geopandas.read_file(\"data/parking/estimated_parking_lanes.geojson\")\n",
    "estimated_parking_spots_kfz_gdf = geopandas.read_file(\"data/parking/estimated_parking_spots_kfz.geojson\")\n",
    "demographics_age_df = pd.read_csv(\"data/demographics/demographics_age_of_inhabitants.csv\", thousands=\" \")\n",
    "demographics_background_df = pd.read_csv(\"data/demographics/demographics_background_of_inhabitants.csv\", thousands=\" \", decimal=\",\")\n",
    "registered_cars_gdf = geopandas.read_file(\"data/demographics/registered_cars.geojson\")"
   ],
   "metadata": {
    "collapsed": false,
    "pycharm": {
     "name": "#%%\n"
    }
   }
  },
  {
   "cell_type": "markdown",
   "source": [
    "## Merging some dataframes"
   ],
   "metadata": {
    "collapsed": false,
    "pycharm": {
     "name": "#%% md\n"
    }
   }
  },
  {
   "cell_type": "code",
   "execution_count": 29,
   "outputs": [],
   "source": [
    "demographics_df = pd.merge(demographics_age_df, demographics_background_df, on=(\"lor_number\", \"lor\"))"
   ],
   "metadata": {
    "collapsed": false,
    "pycharm": {
     "name": "#%%\n"
    }
   }
  },
  {
   "cell_type": "code",
   "execution_count": 30,
   "outputs": [],
   "source": [
    "stats_df = pd.merge(demographics_df, registered_cars_gdf, on=\"lor\")"
   ],
   "metadata": {
    "collapsed": false,
    "pycharm": {
     "name": "#%%\n"
    }
   }
  },
  {
   "cell_type": "markdown",
   "source": [
    "## Visualizing data"
   ],
   "metadata": {
    "collapsed": false,
    "pycharm": {
     "name": "#%% md\n"
    }
   }
  },
  {
   "cell_type": "code",
   "execution_count": 21,
   "outputs": [],
   "source": [
    "def get_lor_map():\n",
    "    return lor_gdf.explore(\n",
    "        column=\"PLR_NAME\",\n",
    "        legend=True,\n",
    "        legend_kwds={\"colorbar\": False},\n",
    "        style_kwds={\"opacity\": 0.4, \"fillOpacity\": 0.4},\n",
    "        name=\"Friedrichshain-Kreuzberg\"\n",
    "    )"
   ],
   "metadata": {
    "collapsed": false,
    "pycharm": {
     "name": "#%%\n"
    }
   }
  },
  {
   "cell_type": "code",
   "execution_count": 17,
   "outputs": [],
   "source": [
    "def plot_geodataframe(gdf: geopandas.GeoDataFrame):\n",
    "    ax = gdf.plot(figsize=(20, 20), alpha=0.5, edgecolor=\"k\")\n",
    "    cx.add_basemap(ax, crs=gdf.crs)"
   ],
   "metadata": {
    "collapsed": false,
    "pycharm": {
     "name": "#%%\n"
    }
   }
  },
  {
   "cell_type": "code",
   "execution_count": null,
   "outputs": [],
   "source": [
    "get_lor_map()"
   ],
   "metadata": {
    "collapsed": false,
    "pycharm": {
     "name": "#%%\n"
    }
   }
  },
  {
   "cell_type": "code",
   "execution_count": null,
   "outputs": [],
   "source": [
    "registered_cars_gdf.explore(m=get_lor_map())"
   ],
   "metadata": {
    "collapsed": false,
    "pycharm": {
     "name": "#%%\n"
    }
   }
  }
 ],
 "metadata": {
  "kernelspec": {
   "name": "pycharm-3375f328",
   "language": "python",
   "display_name": "PyCharm (parking-fhain-xberg)"
  },
  "language_info": {
   "codemirror_mode": {
    "name": "ipython",
    "version": 2
   },
   "file_extension": ".py",
   "mimetype": "text/x-python",
   "name": "python",
   "nbconvert_exporter": "python",
   "pygments_lexer": "ipython2",
   "version": "2.7.6"
  }
 },
 "nbformat": 4,
 "nbformat_minor": 0
}