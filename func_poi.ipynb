{
 "cells": [
  {
   "cell_type": "markdown",
   "id": "09d89adf",
   "metadata": {},
   "source": [
    "## POI function\n",
    "\n",
    "Obtain the number of parking spots around any point of interest (as tagged on OSM). Returns geopandas dataframes."
   ]
  },
  {
   "cell_type": "code",
   "execution_count": null,
   "id": "27284f88",
   "metadata": {},
   "outputs": [],
   "source": [
    "# Imports\n",
    "import osmnx as ox\n",
    "import geopandas as gpd\n",
    "import pandas as pd\n",
    "import matplotlib.pyplot as plt\n",
    "import numpy as np"
   ]
  },
  {
   "cell_type": "code",
   "execution_count": null,
   "id": "6d92e68f",
   "metadata": {},
   "outputs": [],
   "source": [
    "def get_osm_data(lor_gdf, tags, crs=\"EPSG:25833\", location=\"Berlin, Germany\"):\n",
    "    # Load data\n",
    "    try:\n",
    "        lor_gdf = gpd.read_file(lor_gdf)\n",
    "    except:\n",
    "        print(\"Can't load LOR file\")\n",
    "    # Obtain coordinates of POIs\n",
    "    poi = ox.geometries_from_place(location, tags=tags)\n",
    "    poi_points = poi[poi.geom_type == \"Point\"]\n",
    "    \n",
    "    # Drop unnecessary (debatable) information\n",
    "    poi = poi_points.dropna(axis=1)\n",
    "    poi[\"name\"] = poi_points[\"name\"]\n",
    "    \n",
    "    # Project to the same coordinate system\n",
    "    poi = poi.to_crs(crs)\n",
    "    \n",
    "    # We look for the intersection of all pois and our Bezirk\n",
    "    poi_lor = gpd.sjoin(poi, lor_gdf, predicate='intersects')\n",
    "    \n",
    "    return poi_lor"
   ]
  },
  {
   "cell_type": "code",
   "execution_count": null,
   "id": "dab01ac9",
   "metadata": {},
   "outputs": [],
   "source": [
    "def calc_parking_spots(poi_lor, est_parking_spots, buffer_size=20):\n",
    "    # Load data\n",
    "    try:\n",
    "        est_parking_spots = gpd.read_file(est_parking_spots)\n",
    "    except:\n",
    "        print(\"Can't load parking spots file\")\n",
    "        \n",
    "    # Define a circular region around each poi\n",
    "    poi_lor_buffered = poi_lor.copy()\n",
    "    poi_lor_buffered[\"geometry\"] = poi_lor[\"geometry\"].buffer(buffer_size)\n",
    "    poi_lor_buffered = poi_lor_buffered.drop(labels=[\"index_right\"], axis=1)\n",
    "    \n",
    "    # Intersect parking spots and area\n",
    "    intersect_parking = gpd.sjoin(poi_lor_buffered, est_parking_spots)\n",
    "    \n",
    "    # Calculate parking spots\n",
    "    intersect_parking[\"capacity\"] = intersect_parking[\"capacity\"].apply(int)\n",
    "    dfpivot = pd.pivot_table(intersect_parking, index=\"name_left\", columns=\"capacity\", aggfunc={\"capacity\":len})\n",
    "    dfpivot.columns = dfpivot.columns.droplevel()\n",
    "    dfpivot.index.names = [\"name\"]\n",
    "    parking_counts = dfpivot.sum(axis=1)\n",
    "    parking_counts = parking_counts.to_frame(\"No. parking spots\")\n",
    "    \n",
    "    # Merge back with the main dataframe\n",
    "    poi_lor_counts = poi_lor.merge(parking_counts.reset_index(), on=\"name\", how=\"left\")\n",
    "    poi_lor_counts[\"No. parking spots\"] = poi_lor_counts[\"No. parking spots\"].fillna(0)\n",
    "    \n",
    "    return poi_lor_counts, poi_lor_buffered"
   ]
  },
  {
   "cell_type": "code",
   "execution_count": null,
   "id": "8d7dda35",
   "metadata": {},
   "outputs": [],
   "source": [
    "# Usage:\n",
    "poi_lor = get_osm_data(\n",
    "    r\"C:\\Users\\Michl\\Documents\\GitHub\\data-ambassadors-parking-project\\data\\datathon\"+\"/lor_friedrichshain_kreuzberg.geojson\",\n",
    "    {\"amenity\": [\"restaurant\", \"cafe\", \"fast_food\", \"bar\", \"pub\", \"ice_cream\", \"biergarten\", \"food_court\", \"canteen\"]},\n",
    "    )"
   ]
  },
  {
   "cell_type": "code",
   "execution_count": null,
   "id": "d3b88163",
   "metadata": {},
   "outputs": [],
   "source": [
    "parking_counts = calc_parking_spots(\n",
    "    poi_lor,\n",
    "    r\"C:\\Users\\Michl\\Documents\\GitHub\\data-ambassadors-parking-project\\data\\datathon\"+\"/parking/estimated_parking_spots_kfz.geojson\",\n",
    "    40,\n",
    "    )\n"
   ]
  },
  {
   "cell_type": "code",
   "execution_count": null,
   "id": "91c882b5",
   "metadata": {},
   "outputs": [],
   "source": [
    "# Df with Parking lot counts\n",
    "parking_counts[0]\n",
    "# Df with POI + defined parking lot area\n",
    "parking_counts[1]"
   ]
  }
 ],
 "metadata": {
  "kernelspec": {
   "display_name": "Python 3 (ipykernel)",
   "language": "python",
   "name": "python3"
  },
  "language_info": {
   "codemirror_mode": {
    "name": "ipython",
    "version": 3
   },
   "file_extension": ".py",
   "mimetype": "text/x-python",
   "name": "python",
   "nbconvert_exporter": "python",
   "pygments_lexer": "ipython3",
   "version": "3.8.12"
  }
 },
 "nbformat": 4,
 "nbformat_minor": 5
}
